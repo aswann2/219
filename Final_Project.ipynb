{
  "nbformat": 4,
  "nbformat_minor": 0,
  "metadata": {
    "colab": {
      "provenance": [],
      "include_colab_link": true
    },
    "kernelspec": {
      "name": "python3",
      "display_name": "Python 3"
    },
    "language_info": {
      "name": "python"
    }
  },
  "cells": [
    {
      "cell_type": "markdown",
      "metadata": {
        "id": "view-in-github",
        "colab_type": "text"
      },
      "source": [
        "<a href=\"https://colab.research.google.com/github/aswann2/219/blob/main/Final_Project.ipynb\" target=\"_parent\"><img src=\"https://colab.research.google.com/assets/colab-badge.svg\" alt=\"Open In Colab\"/></a>"
      ]
    },
    {
      "cell_type": "markdown",
      "source": [
        "# What does each column represent?"
      ],
      "metadata": {
        "id": "5h5HH6IBQe8n"
      }
    },
    {
      "cell_type": "markdown",
      "source": [
        "- AvAge,\n",
        "\n",
        "- W=wins\n",
        "\n",
        "- L=losses\n",
        "\n",
        "- GF, =goals for\n",
        "\n",
        "- GA, = goals against\n",
        "\n",
        "- SOW, = Shootout wins\n",
        "\n",
        "- SOL= Shootout losses\n",
        "\n",
        "- Create column for shootouts?,\n",
        "\n",
        "- GF/G= goals for per game\n",
        "\n",
        "- GA/G= goals against per game\n",
        "\n",
        "- PP= power play goals\n",
        "\n",
        "- PPO= power play opportunities\n",
        "\n",
        "- SH= Short handed goals\n",
        "\n",
        "- PIM/G= penalties in minutes per game\n",
        "\n",
        "- S=Shots on goal\n",
        "\n",
        "- S%= shooting percentage\n",
        "\n",
        "- SO= shutouts"
      ],
      "metadata": {
        "id": "olw-4lg82GR8"
      }
    },
    {
      "cell_type": "markdown",
      "source": [
        "# Import all necessary libraries"
      ],
      "metadata": {
        "id": "iOQTv194lZk3"
      }
    },
    {
      "cell_type": "code",
      "source": [
        "import pandas as pd\n",
        "import numpy as np\n",
        "from sklearn.preprocessing import StandardScaler\n",
        "from sklearn.pipeline import make_pipeline\n",
        "from sklearn.neighbors import KNeighborsClassifier\n",
        "from sklearn.model_selection import cross_val_score\n",
        "from itertools import combinations\n",
        "from sklearn.compose import make_column_transformer\n",
        "from sklearn.neighbors import KNeighborsRegressor\n",
        "from sklearn.metrics import mean_squared_error\n",
        "from sklearn.metrics import confusion_matrix, ConfusionMatrixDisplay\n",
        "from sklearn.svm import SVC\n",
        "import matplotlib.pyplot as plt\n",
        "from sklearn.model_selection import train_test_split\n",
        "from sklearn.ensemble import RandomForestClassifier"
      ],
      "metadata": {
        "id": "YoSNET-G2EpV"
      },
      "execution_count": 53,
      "outputs": []
    },
    {
      "cell_type": "markdown",
      "source": [
        "# Create, clean, and combine into one large dataframe to run an analysis on."
      ],
      "metadata": {
        "id": "qrY6r4vZlcVX"
      }
    },
    {
      "cell_type": "code",
      "source": [
        "# Create an empty list that will later store all 5 year team statistic dataframes\n",
        "seasons = []\n",
        "\n",
        "# Read in the CSV files into a dataframe\n",
        "S22_23= pd.read_csv('https://raw.githubusercontent.com/aswann2/219/main/S22-23.csv')\n",
        "S21_22= pd.read_csv('https://raw.githubusercontent.com/aswann2/219/main/S21-22.csv')\n",
        "S20_21= pd.read_csv('https://raw.githubusercontent.com/aswann2/219/main/S20-21.csv')\n",
        "S19_20= pd.read_csv('https://raw.githubusercontent.com/aswann2/219/main/S19-20.csv')\n",
        "S18_19= pd.read_csv('https://raw.githubusercontent.com/aswann2/219/main/S18-19.csv')\n",
        "\n",
        "# Get the team rows of those who won the Stanley Cup\n",
        "season_winners = pd.concat([S22_23.loc[S22_23['Team'] == 'Vegas Golden Knights*'],\n",
        "                            S21_22.loc[S21_22['Team'] == 'Colorado Avalanche*'],\n",
        "                            S20_21.loc[S20_21['Team'] == 'Tampa Bay Lightning*'],\n",
        "                            S19_20.loc[S19_20['Team'] == 'Tampa Bay Lightning*'],\n",
        "                            S18_19.loc[S18_19['Team'] == 'St. Louis Blues*']],\n",
        "                            ignore_index=True)\n",
        "\n",
        "# Create another column in each data frame and set the value to 1 for those who won the Stanley Cup\n",
        "S22_23['won_stanley_cup'] = 0\n",
        "S22_23.loc[S22_23['Team'] == 'Vegas Golden Knights*', 'won_stanley_cup'] = 1\n",
        "\n",
        "S21_22['won_stanley_cup'] = 0\n",
        "S21_22.loc[S21_22['Team'] == 'Colorado Avalanche*', 'won_stanley_cup'] = 1\n",
        "\n",
        "S20_21['won_stanley_cup'] = 0\n",
        "S20_21.loc[S20_21['Team'] == 'Tampa Bay Lightning*', 'won_stanley_cup'] = 1\n",
        "\n",
        "S19_20['won_stanley_cup'] = 0\n",
        "S19_20.loc[S19_20['Team'] == 'Tampa Bay Lightning*', 'won_stanley_cup'] = 1\n",
        "\n",
        "S18_19['won_stanley_cup'] = 0\n",
        "S18_19.loc[S18_19['Team'] == 'St. Louis Blues*', 'won_stanley_cup'] = 1\n",
        "\n",
        "# Add all dataframes into the list\n",
        "seasons.append(S22_23)\n",
        "seasons.append(S21_22)\n",
        "seasons.append(S20_21)\n",
        "seasons.append(S19_20)\n",
        "seasons.append(S18_19)\n",
        "\n",
        "# Combine all data into one dataframe\n",
        "allSeasons = pd.concat(seasons)\n",
        "allSeasons = allSeasons.fillna(0)\n",
        "allSeasons"
      ],
      "metadata": {
        "id": "tK5OOna8pOUk",
        "colab": {
          "base_uri": "https://localhost:8080/",
          "height": 424
        },
        "outputId": "47ac4f68-4436-4469-e155-323349ded970"
      },
      "execution_count": 54,
      "outputs": [
        {
          "output_type": "execute_result",
          "data": {
            "text/plain": [
              "      Rk                   Team  AvAge  GP   W   L  OL  PTS   PTS%   GF  ...  \\\n",
              "0    1.0         Boston Bruins*   29.5  82  65  12   5  135  0.823  301  ...   \n",
              "1    2.0   Carolina Hurricanes*   29.3  82  52  21   9  113  0.689  262  ...   \n",
              "2    3.0     New Jersey Devils*   26.7  82  52  22   8  112  0.683  289  ...   \n",
              "3    4.0  Vegas Golden Knights*   29.1  82  51  22   9  111  0.677  267  ...   \n",
              "4    5.0   Toronto Maple Leafs*   28.6  82  50  21  11  111  0.677  278  ...   \n",
              "..   ...                    ...    ...  ..  ..  ..  ..  ...    ...  ...  ...   \n",
              "27  28.0      Detroit Red Wings   29.3  82  32  40  10   74  0.451  224  ...   \n",
              "28  29.0      New Jersey Devils   27.5  82  31  41  10   72  0.439  219  ...   \n",
              "29  30.0      Los Angeles Kings   29.3  82  31  42   9   71  0.433  199  ...   \n",
              "30  31.0        Ottawa Senators   27.3  82  29  47   6   64  0.390  242  ...   \n",
              "31   0.0         League Average   27.9  82  41  32   9   91  0.553  244  ...   \n",
              "\n",
              "    SH  SHA  PIM/G  oPIM/G     S    S%    SA    SV%  SO  won_stanley_cup  \n",
              "0    8    8   10.5     9.9  2703  11.1  2447  0.929   7                0  \n",
              "1   11    6    7.5     7.5  2852   9.2  2132  0.902   9                0  \n",
              "2    9    8    7.7     7.9  2821  10.2  2315  0.904   4                0  \n",
              "3   10    4    7.2     7.9  2587  10.3  2533  0.911   3                1  \n",
              "4    8    8    8.4     8.4  2628  10.6  2420  0.909   5                0  \n",
              "..  ..  ...    ...     ...   ...   ...   ...    ...  ..              ...  \n",
              "27   7    7    7.9     7.3  2394   9.4  2761  0.901   2                0  \n",
              "28  10   10    9.1     9.0  2488   8.8  2592  0.895   6                0  \n",
              "29   4   13    8.1     8.0  2358   8.4  2578  0.900   5                0  \n",
              "30   4    8    8.5     8.3  2429  10.0  2931  0.897   4                0  \n",
              "31   8    8    8.3     8.3  2579   9.5  2579  0.905   5                0  \n",
              "\n",
              "[162 rows x 33 columns]"
            ],
            "text/html": [
              "\n",
              "  <div id=\"df-28807329-0e5c-437b-9d62-e5fc9f95571d\" class=\"colab-df-container\">\n",
              "    <div>\n",
              "<style scoped>\n",
              "    .dataframe tbody tr th:only-of-type {\n",
              "        vertical-align: middle;\n",
              "    }\n",
              "\n",
              "    .dataframe tbody tr th {\n",
              "        vertical-align: top;\n",
              "    }\n",
              "\n",
              "    .dataframe thead th {\n",
              "        text-align: right;\n",
              "    }\n",
              "</style>\n",
              "<table border=\"1\" class=\"dataframe\">\n",
              "  <thead>\n",
              "    <tr style=\"text-align: right;\">\n",
              "      <th></th>\n",
              "      <th>Rk</th>\n",
              "      <th>Team</th>\n",
              "      <th>AvAge</th>\n",
              "      <th>GP</th>\n",
              "      <th>W</th>\n",
              "      <th>L</th>\n",
              "      <th>OL</th>\n",
              "      <th>PTS</th>\n",
              "      <th>PTS%</th>\n",
              "      <th>GF</th>\n",
              "      <th>...</th>\n",
              "      <th>SH</th>\n",
              "      <th>SHA</th>\n",
              "      <th>PIM/G</th>\n",
              "      <th>oPIM/G</th>\n",
              "      <th>S</th>\n",
              "      <th>S%</th>\n",
              "      <th>SA</th>\n",
              "      <th>SV%</th>\n",
              "      <th>SO</th>\n",
              "      <th>won_stanley_cup</th>\n",
              "    </tr>\n",
              "  </thead>\n",
              "  <tbody>\n",
              "    <tr>\n",
              "      <th>0</th>\n",
              "      <td>1.0</td>\n",
              "      <td>Boston Bruins*</td>\n",
              "      <td>29.5</td>\n",
              "      <td>82</td>\n",
              "      <td>65</td>\n",
              "      <td>12</td>\n",
              "      <td>5</td>\n",
              "      <td>135</td>\n",
              "      <td>0.823</td>\n",
              "      <td>301</td>\n",
              "      <td>...</td>\n",
              "      <td>8</td>\n",
              "      <td>8</td>\n",
              "      <td>10.5</td>\n",
              "      <td>9.9</td>\n",
              "      <td>2703</td>\n",
              "      <td>11.1</td>\n",
              "      <td>2447</td>\n",
              "      <td>0.929</td>\n",
              "      <td>7</td>\n",
              "      <td>0</td>\n",
              "    </tr>\n",
              "    <tr>\n",
              "      <th>1</th>\n",
              "      <td>2.0</td>\n",
              "      <td>Carolina Hurricanes*</td>\n",
              "      <td>29.3</td>\n",
              "      <td>82</td>\n",
              "      <td>52</td>\n",
              "      <td>21</td>\n",
              "      <td>9</td>\n",
              "      <td>113</td>\n",
              "      <td>0.689</td>\n",
              "      <td>262</td>\n",
              "      <td>...</td>\n",
              "      <td>11</td>\n",
              "      <td>6</td>\n",
              "      <td>7.5</td>\n",
              "      <td>7.5</td>\n",
              "      <td>2852</td>\n",
              "      <td>9.2</td>\n",
              "      <td>2132</td>\n",
              "      <td>0.902</td>\n",
              "      <td>9</td>\n",
              "      <td>0</td>\n",
              "    </tr>\n",
              "    <tr>\n",
              "      <th>2</th>\n",
              "      <td>3.0</td>\n",
              "      <td>New Jersey Devils*</td>\n",
              "      <td>26.7</td>\n",
              "      <td>82</td>\n",
              "      <td>52</td>\n",
              "      <td>22</td>\n",
              "      <td>8</td>\n",
              "      <td>112</td>\n",
              "      <td>0.683</td>\n",
              "      <td>289</td>\n",
              "      <td>...</td>\n",
              "      <td>9</td>\n",
              "      <td>8</td>\n",
              "      <td>7.7</td>\n",
              "      <td>7.9</td>\n",
              "      <td>2821</td>\n",
              "      <td>10.2</td>\n",
              "      <td>2315</td>\n",
              "      <td>0.904</td>\n",
              "      <td>4</td>\n",
              "      <td>0</td>\n",
              "    </tr>\n",
              "    <tr>\n",
              "      <th>3</th>\n",
              "      <td>4.0</td>\n",
              "      <td>Vegas Golden Knights*</td>\n",
              "      <td>29.1</td>\n",
              "      <td>82</td>\n",
              "      <td>51</td>\n",
              "      <td>22</td>\n",
              "      <td>9</td>\n",
              "      <td>111</td>\n",
              "      <td>0.677</td>\n",
              "      <td>267</td>\n",
              "      <td>...</td>\n",
              "      <td>10</td>\n",
              "      <td>4</td>\n",
              "      <td>7.2</td>\n",
              "      <td>7.9</td>\n",
              "      <td>2587</td>\n",
              "      <td>10.3</td>\n",
              "      <td>2533</td>\n",
              "      <td>0.911</td>\n",
              "      <td>3</td>\n",
              "      <td>1</td>\n",
              "    </tr>\n",
              "    <tr>\n",
              "      <th>4</th>\n",
              "      <td>5.0</td>\n",
              "      <td>Toronto Maple Leafs*</td>\n",
              "      <td>28.6</td>\n",
              "      <td>82</td>\n",
              "      <td>50</td>\n",
              "      <td>21</td>\n",
              "      <td>11</td>\n",
              "      <td>111</td>\n",
              "      <td>0.677</td>\n",
              "      <td>278</td>\n",
              "      <td>...</td>\n",
              "      <td>8</td>\n",
              "      <td>8</td>\n",
              "      <td>8.4</td>\n",
              "      <td>8.4</td>\n",
              "      <td>2628</td>\n",
              "      <td>10.6</td>\n",
              "      <td>2420</td>\n",
              "      <td>0.909</td>\n",
              "      <td>5</td>\n",
              "      <td>0</td>\n",
              "    </tr>\n",
              "    <tr>\n",
              "      <th>...</th>\n",
              "      <td>...</td>\n",
              "      <td>...</td>\n",
              "      <td>...</td>\n",
              "      <td>...</td>\n",
              "      <td>...</td>\n",
              "      <td>...</td>\n",
              "      <td>...</td>\n",
              "      <td>...</td>\n",
              "      <td>...</td>\n",
              "      <td>...</td>\n",
              "      <td>...</td>\n",
              "      <td>...</td>\n",
              "      <td>...</td>\n",
              "      <td>...</td>\n",
              "      <td>...</td>\n",
              "      <td>...</td>\n",
              "      <td>...</td>\n",
              "      <td>...</td>\n",
              "      <td>...</td>\n",
              "      <td>...</td>\n",
              "      <td>...</td>\n",
              "    </tr>\n",
              "    <tr>\n",
              "      <th>27</th>\n",
              "      <td>28.0</td>\n",
              "      <td>Detroit Red Wings</td>\n",
              "      <td>29.3</td>\n",
              "      <td>82</td>\n",
              "      <td>32</td>\n",
              "      <td>40</td>\n",
              "      <td>10</td>\n",
              "      <td>74</td>\n",
              "      <td>0.451</td>\n",
              "      <td>224</td>\n",
              "      <td>...</td>\n",
              "      <td>7</td>\n",
              "      <td>7</td>\n",
              "      <td>7.9</td>\n",
              "      <td>7.3</td>\n",
              "      <td>2394</td>\n",
              "      <td>9.4</td>\n",
              "      <td>2761</td>\n",
              "      <td>0.901</td>\n",
              "      <td>2</td>\n",
              "      <td>0</td>\n",
              "    </tr>\n",
              "    <tr>\n",
              "      <th>28</th>\n",
              "      <td>29.0</td>\n",
              "      <td>New Jersey Devils</td>\n",
              "      <td>27.5</td>\n",
              "      <td>82</td>\n",
              "      <td>31</td>\n",
              "      <td>41</td>\n",
              "      <td>10</td>\n",
              "      <td>72</td>\n",
              "      <td>0.439</td>\n",
              "      <td>219</td>\n",
              "      <td>...</td>\n",
              "      <td>10</td>\n",
              "      <td>10</td>\n",
              "      <td>9.1</td>\n",
              "      <td>9.0</td>\n",
              "      <td>2488</td>\n",
              "      <td>8.8</td>\n",
              "      <td>2592</td>\n",
              "      <td>0.895</td>\n",
              "      <td>6</td>\n",
              "      <td>0</td>\n",
              "    </tr>\n",
              "    <tr>\n",
              "      <th>29</th>\n",
              "      <td>30.0</td>\n",
              "      <td>Los Angeles Kings</td>\n",
              "      <td>29.3</td>\n",
              "      <td>82</td>\n",
              "      <td>31</td>\n",
              "      <td>42</td>\n",
              "      <td>9</td>\n",
              "      <td>71</td>\n",
              "      <td>0.433</td>\n",
              "      <td>199</td>\n",
              "      <td>...</td>\n",
              "      <td>4</td>\n",
              "      <td>13</td>\n",
              "      <td>8.1</td>\n",
              "      <td>8.0</td>\n",
              "      <td>2358</td>\n",
              "      <td>8.4</td>\n",
              "      <td>2578</td>\n",
              "      <td>0.900</td>\n",
              "      <td>5</td>\n",
              "      <td>0</td>\n",
              "    </tr>\n",
              "    <tr>\n",
              "      <th>30</th>\n",
              "      <td>31.0</td>\n",
              "      <td>Ottawa Senators</td>\n",
              "      <td>27.3</td>\n",
              "      <td>82</td>\n",
              "      <td>29</td>\n",
              "      <td>47</td>\n",
              "      <td>6</td>\n",
              "      <td>64</td>\n",
              "      <td>0.390</td>\n",
              "      <td>242</td>\n",
              "      <td>...</td>\n",
              "      <td>4</td>\n",
              "      <td>8</td>\n",
              "      <td>8.5</td>\n",
              "      <td>8.3</td>\n",
              "      <td>2429</td>\n",
              "      <td>10.0</td>\n",
              "      <td>2931</td>\n",
              "      <td>0.897</td>\n",
              "      <td>4</td>\n",
              "      <td>0</td>\n",
              "    </tr>\n",
              "    <tr>\n",
              "      <th>31</th>\n",
              "      <td>0.0</td>\n",
              "      <td>League Average</td>\n",
              "      <td>27.9</td>\n",
              "      <td>82</td>\n",
              "      <td>41</td>\n",
              "      <td>32</td>\n",
              "      <td>9</td>\n",
              "      <td>91</td>\n",
              "      <td>0.553</td>\n",
              "      <td>244</td>\n",
              "      <td>...</td>\n",
              "      <td>8</td>\n",
              "      <td>8</td>\n",
              "      <td>8.3</td>\n",
              "      <td>8.3</td>\n",
              "      <td>2579</td>\n",
              "      <td>9.5</td>\n",
              "      <td>2579</td>\n",
              "      <td>0.905</td>\n",
              "      <td>5</td>\n",
              "      <td>0</td>\n",
              "    </tr>\n",
              "  </tbody>\n",
              "</table>\n",
              "<p>162 rows × 33 columns</p>\n",
              "</div>\n",
              "    <div class=\"colab-df-buttons\">\n",
              "\n",
              "  <div class=\"colab-df-container\">\n",
              "    <button class=\"colab-df-convert\" onclick=\"convertToInteractive('df-28807329-0e5c-437b-9d62-e5fc9f95571d')\"\n",
              "            title=\"Convert this dataframe to an interactive table.\"\n",
              "            style=\"display:none;\">\n",
              "\n",
              "  <svg xmlns=\"http://www.w3.org/2000/svg\" height=\"24px\" viewBox=\"0 -960 960 960\">\n",
              "    <path d=\"M120-120v-720h720v720H120Zm60-500h600v-160H180v160Zm220 220h160v-160H400v160Zm0 220h160v-160H400v160ZM180-400h160v-160H180v160Zm440 0h160v-160H620v160ZM180-180h160v-160H180v160Zm440 0h160v-160H620v160Z\"/>\n",
              "  </svg>\n",
              "    </button>\n",
              "\n",
              "  <style>\n",
              "    .colab-df-container {\n",
              "      display:flex;\n",
              "      gap: 12px;\n",
              "    }\n",
              "\n",
              "    .colab-df-convert {\n",
              "      background-color: #E8F0FE;\n",
              "      border: none;\n",
              "      border-radius: 50%;\n",
              "      cursor: pointer;\n",
              "      display: none;\n",
              "      fill: #1967D2;\n",
              "      height: 32px;\n",
              "      padding: 0 0 0 0;\n",
              "      width: 32px;\n",
              "    }\n",
              "\n",
              "    .colab-df-convert:hover {\n",
              "      background-color: #E2EBFA;\n",
              "      box-shadow: 0px 1px 2px rgba(60, 64, 67, 0.3), 0px 1px 3px 1px rgba(60, 64, 67, 0.15);\n",
              "      fill: #174EA6;\n",
              "    }\n",
              "\n",
              "    .colab-df-buttons div {\n",
              "      margin-bottom: 4px;\n",
              "    }\n",
              "\n",
              "    [theme=dark] .colab-df-convert {\n",
              "      background-color: #3B4455;\n",
              "      fill: #D2E3FC;\n",
              "    }\n",
              "\n",
              "    [theme=dark] .colab-df-convert:hover {\n",
              "      background-color: #434B5C;\n",
              "      box-shadow: 0px 1px 3px 1px rgba(0, 0, 0, 0.15);\n",
              "      filter: drop-shadow(0px 1px 2px rgba(0, 0, 0, 0.3));\n",
              "      fill: #FFFFFF;\n",
              "    }\n",
              "  </style>\n",
              "\n",
              "    <script>\n",
              "      const buttonEl =\n",
              "        document.querySelector('#df-28807329-0e5c-437b-9d62-e5fc9f95571d button.colab-df-convert');\n",
              "      buttonEl.style.display =\n",
              "        google.colab.kernel.accessAllowed ? 'block' : 'none';\n",
              "\n",
              "      async function convertToInteractive(key) {\n",
              "        const element = document.querySelector('#df-28807329-0e5c-437b-9d62-e5fc9f95571d');\n",
              "        const dataTable =\n",
              "          await google.colab.kernel.invokeFunction('convertToInteractive',\n",
              "                                                    [key], {});\n",
              "        if (!dataTable) return;\n",
              "\n",
              "        const docLinkHtml = 'Like what you see? Visit the ' +\n",
              "          '<a target=\"_blank\" href=https://colab.research.google.com/notebooks/data_table.ipynb>data table notebook</a>'\n",
              "          + ' to learn more about interactive tables.';\n",
              "        element.innerHTML = '';\n",
              "        dataTable['output_type'] = 'display_data';\n",
              "        await google.colab.output.renderOutput(dataTable, element);\n",
              "        const docLink = document.createElement('div');\n",
              "        docLink.innerHTML = docLinkHtml;\n",
              "        element.appendChild(docLink);\n",
              "      }\n",
              "    </script>\n",
              "  </div>\n",
              "\n",
              "\n",
              "<div id=\"df-32b7ae8e-82b5-4448-aa6a-d7feb2f5e4a1\">\n",
              "  <button class=\"colab-df-quickchart\" onclick=\"quickchart('df-32b7ae8e-82b5-4448-aa6a-d7feb2f5e4a1')\"\n",
              "            title=\"Suggest charts\"\n",
              "            style=\"display:none;\">\n",
              "\n",
              "<svg xmlns=\"http://www.w3.org/2000/svg\" height=\"24px\"viewBox=\"0 0 24 24\"\n",
              "     width=\"24px\">\n",
              "    <g>\n",
              "        <path d=\"M19 3H5c-1.1 0-2 .9-2 2v14c0 1.1.9 2 2 2h14c1.1 0 2-.9 2-2V5c0-1.1-.9-2-2-2zM9 17H7v-7h2v7zm4 0h-2V7h2v10zm4 0h-2v-4h2v4z\"/>\n",
              "    </g>\n",
              "</svg>\n",
              "  </button>\n",
              "\n",
              "<style>\n",
              "  .colab-df-quickchart {\n",
              "      --bg-color: #E8F0FE;\n",
              "      --fill-color: #1967D2;\n",
              "      --hover-bg-color: #E2EBFA;\n",
              "      --hover-fill-color: #174EA6;\n",
              "      --disabled-fill-color: #AAA;\n",
              "      --disabled-bg-color: #DDD;\n",
              "  }\n",
              "\n",
              "  [theme=dark] .colab-df-quickchart {\n",
              "      --bg-color: #3B4455;\n",
              "      --fill-color: #D2E3FC;\n",
              "      --hover-bg-color: #434B5C;\n",
              "      --hover-fill-color: #FFFFFF;\n",
              "      --disabled-bg-color: #3B4455;\n",
              "      --disabled-fill-color: #666;\n",
              "  }\n",
              "\n",
              "  .colab-df-quickchart {\n",
              "    background-color: var(--bg-color);\n",
              "    border: none;\n",
              "    border-radius: 50%;\n",
              "    cursor: pointer;\n",
              "    display: none;\n",
              "    fill: var(--fill-color);\n",
              "    height: 32px;\n",
              "    padding: 0;\n",
              "    width: 32px;\n",
              "  }\n",
              "\n",
              "  .colab-df-quickchart:hover {\n",
              "    background-color: var(--hover-bg-color);\n",
              "    box-shadow: 0 1px 2px rgba(60, 64, 67, 0.3), 0 1px 3px 1px rgba(60, 64, 67, 0.15);\n",
              "    fill: var(--button-hover-fill-color);\n",
              "  }\n",
              "\n",
              "  .colab-df-quickchart-complete:disabled,\n",
              "  .colab-df-quickchart-complete:disabled:hover {\n",
              "    background-color: var(--disabled-bg-color);\n",
              "    fill: var(--disabled-fill-color);\n",
              "    box-shadow: none;\n",
              "  }\n",
              "\n",
              "  .colab-df-spinner {\n",
              "    border: 2px solid var(--fill-color);\n",
              "    border-color: transparent;\n",
              "    border-bottom-color: var(--fill-color);\n",
              "    animation:\n",
              "      spin 1s steps(1) infinite;\n",
              "  }\n",
              "\n",
              "  @keyframes spin {\n",
              "    0% {\n",
              "      border-color: transparent;\n",
              "      border-bottom-color: var(--fill-color);\n",
              "      border-left-color: var(--fill-color);\n",
              "    }\n",
              "    20% {\n",
              "      border-color: transparent;\n",
              "      border-left-color: var(--fill-color);\n",
              "      border-top-color: var(--fill-color);\n",
              "    }\n",
              "    30% {\n",
              "      border-color: transparent;\n",
              "      border-left-color: var(--fill-color);\n",
              "      border-top-color: var(--fill-color);\n",
              "      border-right-color: var(--fill-color);\n",
              "    }\n",
              "    40% {\n",
              "      border-color: transparent;\n",
              "      border-right-color: var(--fill-color);\n",
              "      border-top-color: var(--fill-color);\n",
              "    }\n",
              "    60% {\n",
              "      border-color: transparent;\n",
              "      border-right-color: var(--fill-color);\n",
              "    }\n",
              "    80% {\n",
              "      border-color: transparent;\n",
              "      border-right-color: var(--fill-color);\n",
              "      border-bottom-color: var(--fill-color);\n",
              "    }\n",
              "    90% {\n",
              "      border-color: transparent;\n",
              "      border-bottom-color: var(--fill-color);\n",
              "    }\n",
              "  }\n",
              "</style>\n",
              "\n",
              "  <script>\n",
              "    async function quickchart(key) {\n",
              "      const quickchartButtonEl =\n",
              "        document.querySelector('#' + key + ' button');\n",
              "      quickchartButtonEl.disabled = true;  // To prevent multiple clicks.\n",
              "      quickchartButtonEl.classList.add('colab-df-spinner');\n",
              "      try {\n",
              "        const charts = await google.colab.kernel.invokeFunction(\n",
              "            'suggestCharts', [key], {});\n",
              "      } catch (error) {\n",
              "        console.error('Error during call to suggestCharts:', error);\n",
              "      }\n",
              "      quickchartButtonEl.classList.remove('colab-df-spinner');\n",
              "      quickchartButtonEl.classList.add('colab-df-quickchart-complete');\n",
              "    }\n",
              "    (() => {\n",
              "      let quickchartButtonEl =\n",
              "        document.querySelector('#df-32b7ae8e-82b5-4448-aa6a-d7feb2f5e4a1 button');\n",
              "      quickchartButtonEl.style.display =\n",
              "        google.colab.kernel.accessAllowed ? 'block' : 'none';\n",
              "    })();\n",
              "  </script>\n",
              "</div>\n",
              "\n",
              "  <div id=\"id_6e6b8e01-689a-44f8-b421-60c52d311669\">\n",
              "    <style>\n",
              "      .colab-df-generate {\n",
              "        background-color: #E8F0FE;\n",
              "        border: none;\n",
              "        border-radius: 50%;\n",
              "        cursor: pointer;\n",
              "        display: none;\n",
              "        fill: #1967D2;\n",
              "        height: 32px;\n",
              "        padding: 0 0 0 0;\n",
              "        width: 32px;\n",
              "      }\n",
              "\n",
              "      .colab-df-generate:hover {\n",
              "        background-color: #E2EBFA;\n",
              "        box-shadow: 0px 1px 2px rgba(60, 64, 67, 0.3), 0px 1px 3px 1px rgba(60, 64, 67, 0.15);\n",
              "        fill: #174EA6;\n",
              "      }\n",
              "\n",
              "      [theme=dark] .colab-df-generate {\n",
              "        background-color: #3B4455;\n",
              "        fill: #D2E3FC;\n",
              "      }\n",
              "\n",
              "      [theme=dark] .colab-df-generate:hover {\n",
              "        background-color: #434B5C;\n",
              "        box-shadow: 0px 1px 3px 1px rgba(0, 0, 0, 0.15);\n",
              "        filter: drop-shadow(0px 1px 2px rgba(0, 0, 0, 0.3));\n",
              "        fill: #FFFFFF;\n",
              "      }\n",
              "    </style>\n",
              "    <button class=\"colab-df-generate\" onclick=\"generateWithVariable('allSeasons')\"\n",
              "            title=\"Generate code using this dataframe.\"\n",
              "            style=\"display:none;\">\n",
              "\n",
              "  <svg xmlns=\"http://www.w3.org/2000/svg\" height=\"24px\"viewBox=\"0 0 24 24\"\n",
              "       width=\"24px\">\n",
              "    <path d=\"M7,19H8.4L18.45,9,17,7.55,7,17.6ZM5,21V16.75L18.45,3.32a2,2,0,0,1,2.83,0l1.4,1.43a1.91,1.91,0,0,1,.58,1.4,1.91,1.91,0,0,1-.58,1.4L9.25,21ZM18.45,9,17,7.55Zm-12,3A5.31,5.31,0,0,0,4.9,8.1,5.31,5.31,0,0,0,1,6.5,5.31,5.31,0,0,0,4.9,4.9,5.31,5.31,0,0,0,6.5,1,5.31,5.31,0,0,0,8.1,4.9,5.31,5.31,0,0,0,12,6.5,5.46,5.46,0,0,0,6.5,12Z\"/>\n",
              "  </svg>\n",
              "    </button>\n",
              "    <script>\n",
              "      (() => {\n",
              "      const buttonEl =\n",
              "        document.querySelector('#id_6e6b8e01-689a-44f8-b421-60c52d311669 button.colab-df-generate');\n",
              "      buttonEl.style.display =\n",
              "        google.colab.kernel.accessAllowed ? 'block' : 'none';\n",
              "\n",
              "      buttonEl.onclick = () => {\n",
              "        google.colab.notebook.generateWithVariable('allSeasons');\n",
              "      }\n",
              "      })();\n",
              "    </script>\n",
              "  </div>\n",
              "\n",
              "    </div>\n",
              "  </div>\n"
            ],
            "application/vnd.google.colaboratory.intrinsic+json": {
              "type": "dataframe",
              "variable_name": "allSeasons"
            }
          },
          "metadata": {},
          "execution_count": 54
        }
      ]
    },
    {
      "cell_type": "markdown",
      "source": [
        "# Which K-Neighbor is Best?"
      ],
      "metadata": {
        "id": "6xFCRtlQlxMN"
      }
    },
    {
      "cell_type": "code",
      "source": [
        "candidate_features= ['W','L','GF','GA','PP','PIM/G','S','S%','SO']\n",
        "X_train=allSeasons[list(candidate_features)]\n",
        "y_train=allSeasons['won_stanley_cup']\n",
        "pipeline = make_pipeline(\n",
        "    StandardScaler(),\n",
        "    KNeighborsClassifier(n_neighbors=3)\n",
        ")\n",
        "\n",
        "accuracies = {}\n",
        "# DONE: iterate over all sizes\n",
        "for size in range(1, len(candidate_features) + 1):\n",
        "  # TODO: iterate over all feature combinations of a given size\n",
        "  for features in combinations(candidate_features, size):\n",
        "    scores = cross_val_score(\n",
        "    pipeline,\n",
        "    X=allSeasons[list(features)],\n",
        "    y=allSeasons['won_stanley_cup'],\n",
        "    scoring = \"f1_macro\",\n",
        "    cv=5\n",
        "    )\n",
        "\n",
        "    accuracies[str(list(features))] = scores.mean()"
      ],
      "metadata": {
        "id": "JR-BsZeOlLjC"
      },
      "execution_count": 55,
      "outputs": []
    },
    {
      "cell_type": "markdown",
      "source": [
        "Find which combination set has the highest mean. The higher the mean, the better the feature combination set to use."
      ],
      "metadata": {
        "id": "2_qYMdjIl3wU"
      }
    },
    {
      "cell_type": "code",
      "source": [
        "accuracies_sorted = pd.Series(accuracies).sort_values(ascending=False)\n",
        "accuracies_sorted"
      ],
      "metadata": {
        "colab": {
          "base_uri": "https://localhost:8080/"
        },
        "id": "UUFc04lcuiPk",
        "outputId": "ac83f0ec-4f6d-41ba-a712-e6b93c46b740"
      },
      "execution_count": 56,
      "outputs": [
        {
          "output_type": "execute_result",
          "data": {
            "text/plain": [
              "['W']                                     0.492161\n",
              "['GA', 'PIM/G', 'S', 'S%', 'SO']          0.492161\n",
              "['L', 'GF', 'PIM/G', 'S', 'S%']           0.492161\n",
              "['L', 'GF', 'PP', 'S%', 'SO']             0.492161\n",
              "['L', 'GF', 'PP', 'S', 'SO']              0.492161\n",
              "                                            ...   \n",
              "['GF', 'GA', 'PP', 'PIM/G', 'S%']         0.488830\n",
              "['L', 'GF', 'GA', 'PP', 'PIM/G', 'S%']    0.488830\n",
              "['L', 'GF', 'GA', 'PP', 'PIM/G', 'S']     0.487244\n",
              "['L', 'GA', 'PP', 'PIM/G', 'S']           0.487244\n",
              "['L', 'GF', 'PP', 'PIM/G', 'S']           0.487244\n",
              "Length: 511, dtype: float64"
            ]
          },
          "metadata": {},
          "execution_count": 56
        }
      ]
    },
    {
      "cell_type": "markdown",
      "source": [
        "Given the information, we can see that the second feature set of ['GA', 'PIM/G', 'S', 'S%', 'SO'] has an accuracy score of 49.22%. In an attempt to get a better accuracy, we will find which k is the best number to use when predicting."
      ],
      "metadata": {
        "id": "Yt6_WPyjHxkP"
      }
    },
    {
      "cell_type": "markdown",
      "source": [
        "**Find which k-neighbor is best from range(1, 101)**"
      ],
      "metadata": {
        "id": "RACoZehOq52o"
      }
    },
    {
      "cell_type": "code",
      "source": [
        "def calculate_training_error(k):\n",
        "  # fit a k-nearest neighbors model\n",
        "  pipeline_knn = make_pipeline(\n",
        "    KNeighborsClassifier(n_neighbors=k)\n",
        "    )\n",
        "  pipeline_knn.fit(X_train,y_train)\n",
        "  # calculate the training MSE of this model\n",
        "  y_train_ = pipeline_knn.predict(X_train)\n",
        "  return np.sqrt(mean_squared_error(y_train,y_train_))\n",
        "\n",
        "\n",
        "training_errors = pd.Series([])\n",
        "for x in range(1, 101):\n",
        "    error = calculate_training_error(x)\n",
        "    training_errors[x] = error\n",
        "training_errors"
      ],
      "metadata": {
        "id": "ocJU8n1NukwO",
        "colab": {
          "base_uri": "https://localhost:8080/"
        },
        "outputId": "cfcb82d0-593f-45b8-8140-57ccf4927737"
      },
      "execution_count": 57,
      "outputs": [
        {
          "output_type": "execute_result",
          "data": {
            "text/plain": [
              "1      0.000000\n",
              "2      0.175682\n",
              "3      0.192450\n",
              "4      0.175682\n",
              "5      0.175682\n",
              "         ...   \n",
              "96     0.175682\n",
              "97     0.175682\n",
              "98     0.175682\n",
              "99     0.175682\n",
              "100    0.175682\n",
              "Length: 100, dtype: float64"
            ]
          },
          "metadata": {},
          "execution_count": 57
        }
      ]
    },
    {
      "cell_type": "code",
      "source": [
        "def estimate_test_error(k):\n",
        "  # define a k-nearest neighbors model\n",
        "  pipeline_knn = make_pipeline(\n",
        "    KNeighborsRegressor(n_neighbors=k)\n",
        "    )\n",
        "  # use cross-validation to estimate the test error\n",
        "  return np.sqrt(-cross_val_score(\n",
        "      pipeline_knn,\n",
        "      X=X_train,\n",
        "      y=y_train,\n",
        "      cv=5,\n",
        "      scoring=\"neg_mean_squared_error\"\n",
        "  ).mean())\n",
        "\n",
        "ks = range(1, 101)\n",
        "test_errors = pd.Series([])\n",
        "for x in range(1, 101):\n",
        "  error = estimate_test_error(x)\n",
        "  test_errors[x] = error\n",
        "test_errors"
      ],
      "metadata": {
        "colab": {
          "base_uri": "https://localhost:8080/"
        },
        "id": "RBWWrv5q540o",
        "outputId": "50c33f24-ff06-456e-d0da-6bf46084d327"
      },
      "execution_count": 58,
      "outputs": [
        {
          "output_type": "execute_result",
          "data": {
            "text/plain": [
              "1      0.221906\n",
              "2      0.175432\n",
              "3      0.163544\n",
              "4      0.170053\n",
              "5      0.169938\n",
              "         ...   \n",
              "96     0.172895\n",
              "97     0.172915\n",
              "98     0.172944\n",
              "99     0.172955\n",
              "100    0.172965\n",
              "Length: 100, dtype: float64"
            ]
          },
          "metadata": {},
          "execution_count": 58
        }
      ]
    },
    {
      "cell_type": "code",
      "source": [
        "ax = training_errors.plot.line()\n",
        "test_errors.plot.line(ax=ax)\n",
        "ax.set_xlabel(\"k\")\n",
        "ax.set_ylabel(\"RMSE\")"
      ],
      "metadata": {
        "colab": {
          "base_uri": "https://localhost:8080/",
          "height": 467
        },
        "id": "Tr0urWOL70mI",
        "outputId": "779c35c4-8f97-460f-8cb2-8cfc4e75743a"
      },
      "execution_count": 59,
      "outputs": [
        {
          "output_type": "execute_result",
          "data": {
            "text/plain": [
              "Text(0, 0.5, 'RMSE')"
            ]
          },
          "metadata": {},
          "execution_count": 59
        },
        {
          "output_type": "display_data",
          "data": {
            "text/plain": [
              "<Figure size 640x480 with 1 Axes>"
            ],
            "image/png": "[encoded data removed]"
          },
          "metadata": {}
        }
      ]
    },
    {
      "cell_type": "code",
      "source": [
        "best_k=test_errors.idxmin()\n",
        "best_k"
      ],
      "metadata": {
        "id": "l5ftunqc8iOn",
        "outputId": "6b81795a-12ac-4206-e1ce-46a60b932308",
        "colab": {
          "base_uri": "https://localhost:8080/"
        }
      },
      "execution_count": 60,
      "outputs": [
        {
          "output_type": "execute_result",
          "data": {
            "text/plain": [
              "3"
            ]
          },
          "metadata": {},
          "execution_count": 60
        }
      ]
    },
    {
      "cell_type": "markdown",
      "source": [
        "**Given the analysis above, we can see that the best K Neighbor is 3.**"
      ],
      "metadata": {
        "id": "yxSxdfQ9Ppbi"
      }
    },
    {
      "cell_type": "markdown",
      "source": [
        "# Create a confusion matrix"
      ],
      "metadata": {
        "id": "4ShXlfuLJZXe"
      }
    },
    {
      "cell_type": "code",
      "source": [
        "clf = SVC(random_state=0)\n",
        "clf.fit(X_train, y_train)\n",
        "predictions = clf.predict(X_train)\n",
        "cm = confusion_matrix(y_train, predictions, labels=clf.classes_)\n",
        "\n",
        "disp = ConfusionMatrixDisplay(confusion_matrix=cm, display_labels=clf.classes_)\n",
        "disp.plot()\n",
        "print(\"The prediction accuracy is:\", (y_train == predictions).mean())"
      ],
      "metadata": {
        "colab": {
          "base_uri": "https://localhost:8080/",
          "height": 467
        },
        "id": "SpRgxSQ6Jkjq",
        "outputId": "6ec16cc9-57ee-4fe7-cdd0-7645acc264c5"
      },
      "execution_count": 61,
      "outputs": [
        {
          "output_type": "stream",
          "name": "stdout",
          "text": [
            "The prediction accuracy is: 0.9691358024691358\n"
          ]
        },
        {
          "output_type": "display_data",
          "data": {
            "text/plain": [
              "<Figure size 640x480 with 2 Axes>"
            ],
            "image/png": "[encoded data removed]"
          },
          "metadata": {}
        }
      ]
    },
    {
      "cell_type": "markdown",
      "source": [
        "By analyzing this graph, we can see that our model predicted whether or not a team won the Stanley Cup with 96.91% accuracy. Having 157 true negatives and 5 true positives is great. However, the data does not ever predict a team winning the Stanley Cup. This could be potentially fixed by expanding our data set."
      ],
      "metadata": {
        "id": "BsTKt8kiMQD8"
      }
    },
    {
      "cell_type": "markdown",
      "source": [
        "# How much does each feature weight on if a team wins the Stanley Cup or not?"
      ],
      "metadata": {
        "id": "bJ3iezfJS9VY"
      }
    },
    {
      "cell_type": "code",
      "source": [
        "df = allSeasons\n",
        "\n",
        "# Split the dataset into features (X) and target variable (y)\n",
        "X = df.drop(columns=[\"Team\", \"Rk\", \"won_stanley_cup\"])  # Exclude non-numeric columns and target variable\n",
        "y = df[\"won_stanley_cup\"]\n",
        "\n",
        "# Split the data into training and testing sets\n",
        "X_train, X_test, y_train, y_test = train_test_split(X, y, test_size=0.2, random_state=42)\n",
        "\n",
        "# Train a Random Forest classifier\n",
        "clf = RandomForestClassifier(n_estimators=100, random_state=42)\n",
        "clf.fit(X_train, y_train)\n",
        "\n",
        "# Get feature importances\n",
        "feature_importances = clf.feature_importances_\n",
        "feature_names = X.columns\n",
        "\n",
        "# Plot feature importances\n",
        "plt.figure(figsize=(10, 6))\n",
        "plt.barh(feature_names, feature_importances, color='mediumspringgreen')\n",
        "plt.xlabel('Feature Importance')\n",
        "plt.ylabel('Features')\n",
        "plt.title('Feature Importances for Predicting Stanley Cup Winner')\n",
        "plt.show()"
      ],
      "metadata": {
        "colab": {
          "base_uri": "https://localhost:8080/",
          "height": 564
        },
        "id": "HRvSIXUpRV5k",
        "outputId": "8b283a31-96cb-45c9-8833-af2c4ee3904c"
      },
      "execution_count": 64,
      "outputs": [
        {
          "output_type": "display_data",
          "data": {
            "text/plain": [
              "<Figure size 1000x600 with 1 Axes>"
            ],
            "image/png": "[encoded data removed]"
          },
          "metadata": {}
        }
      ]
    },
    {
      "cell_type": "markdown",
      "source": [
        "\n",
        "By analyzing this the horizontal bar graph above, we can see that SO (shut outs) had the greatest impact and factor on whether or not a team won the Stanley Cup, and GP (games played) had the least effect."
      ],
      "metadata": {
        "id": "o3t2ZmkdTHG8"
      }
    }
  ]
}